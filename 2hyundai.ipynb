{
 "cells": [
  {
   "cell_type": "code",
   "execution_count": 1,
   "id": "b310c654",
   "metadata": {},
   "outputs": [],
   "source": [
    "import numpy as np\n",
    "import matplotlib.pyplot as plt\n",
    "import pandas as pd"
   ]
  },
  {
   "cell_type": "code",
   "execution_count": 2,
   "id": "345fa81c",
   "metadata": {},
   "outputs": [
    {
     "data": {
      "text/html": [
       "<div>\n",
       "<style scoped>\n",
       "    .dataframe tbody tr th:only-of-type {\n",
       "        vertical-align: middle;\n",
       "    }\n",
       "\n",
       "    .dataframe tbody tr th {\n",
       "        vertical-align: top;\n",
       "    }\n",
       "\n",
       "    .dataframe thead th {\n",
       "        text-align: right;\n",
       "    }\n",
       "</style>\n",
       "<table border=\"1\" class=\"dataframe\">\n",
       "  <thead>\n",
       "    <tr style=\"text-align: right;\">\n",
       "      <th></th>\n",
       "      <th>model</th>\n",
       "      <th>year</th>\n",
       "      <th>price</th>\n",
       "      <th>type</th>\n",
       "      <th>distance</th>\n",
       "      <th>fuel</th>\n",
       "      <th>tax</th>\n",
       "      <th>miles per galoon</th>\n",
       "      <th>size</th>\n",
       "    </tr>\n",
       "  </thead>\n",
       "  <tbody>\n",
       "    <tr>\n",
       "      <th>0</th>\n",
       "      <td>1</td>\n",
       "      <td>2017.0</td>\n",
       "      <td>7999.0</td>\n",
       "      <td>1</td>\n",
       "      <td>17307.00000</td>\n",
       "      <td>2</td>\n",
       "      <td>145.0</td>\n",
       "      <td>58.9</td>\n",
       "      <td>1.2</td>\n",
       "    </tr>\n",
       "    <tr>\n",
       "      <th>1</th>\n",
       "      <td>10</td>\n",
       "      <td>2017.0</td>\n",
       "      <td>14100.0</td>\n",
       "      <td>2</td>\n",
       "      <td>27299.00000</td>\n",
       "      <td>0</td>\n",
       "      <td>145.0</td>\n",
       "      <td>57.6</td>\n",
       "      <td>1.7</td>\n",
       "    </tr>\n",
       "    <tr>\n",
       "      <th>2</th>\n",
       "      <td>0</td>\n",
       "      <td>2017.0</td>\n",
       "      <td>7495.0</td>\n",
       "      <td>1</td>\n",
       "      <td>25203.00000</td>\n",
       "      <td>2</td>\n",
       "      <td>30.0</td>\n",
       "      <td>57.7</td>\n",
       "      <td>1.2</td>\n",
       "    </tr>\n",
       "    <tr>\n",
       "      <th>3</th>\n",
       "      <td>6</td>\n",
       "      <td>2013.0</td>\n",
       "      <td>6998.0</td>\n",
       "      <td>1</td>\n",
       "      <td>72893.96871</td>\n",
       "      <td>0</td>\n",
       "      <td>145.0</td>\n",
       "      <td>53.3</td>\n",
       "      <td>1.7</td>\n",
       "    </tr>\n",
       "    <tr>\n",
       "      <th>4</th>\n",
       "      <td>10</td>\n",
       "      <td>2016.0</td>\n",
       "      <td>11998.0</td>\n",
       "      <td>1</td>\n",
       "      <td>36512.00000</td>\n",
       "      <td>0</td>\n",
       "      <td>30.0</td>\n",
       "      <td>61.7</td>\n",
       "      <td>1.7</td>\n",
       "    </tr>\n",
       "    <tr>\n",
       "      <th>...</th>\n",
       "      <td>...</td>\n",
       "      <td>...</td>\n",
       "      <td>...</td>\n",
       "      <td>...</td>\n",
       "      <td>...</td>\n",
       "      <td>...</td>\n",
       "      <td>...</td>\n",
       "      <td>...</td>\n",
       "      <td>...</td>\n",
       "    </tr>\n",
       "    <tr>\n",
       "      <th>330</th>\n",
       "      <td>10</td>\n",
       "      <td>2017.0</td>\n",
       "      <td>13000.0</td>\n",
       "      <td>1</td>\n",
       "      <td>26685.00000</td>\n",
       "      <td>0</td>\n",
       "      <td>30.0</td>\n",
       "      <td>61.7</td>\n",
       "      <td>1.7</td>\n",
       "    </tr>\n",
       "    <tr>\n",
       "      <th>331</th>\n",
       "      <td>9</td>\n",
       "      <td>2017.0</td>\n",
       "      <td>18999.0</td>\n",
       "      <td>0</td>\n",
       "      <td>20599.00000</td>\n",
       "      <td>0</td>\n",
       "      <td>150.0</td>\n",
       "      <td>42.8</td>\n",
       "      <td>2.2</td>\n",
       "    </tr>\n",
       "    <tr>\n",
       "      <th>332</th>\n",
       "      <td>10</td>\n",
       "      <td>2019.0</td>\n",
       "      <td>15498.0</td>\n",
       "      <td>1</td>\n",
       "      <td>23773.00000</td>\n",
       "      <td>2</td>\n",
       "      <td>145.0</td>\n",
       "      <td>34.9</td>\n",
       "      <td>1.6</td>\n",
       "    </tr>\n",
       "    <tr>\n",
       "      <th>333</th>\n",
       "      <td>5</td>\n",
       "      <td>2017.0</td>\n",
       "      <td>9998.0</td>\n",
       "      <td>1</td>\n",
       "      <td>9604.00000</td>\n",
       "      <td>2</td>\n",
       "      <td>145.0</td>\n",
       "      <td>50.4</td>\n",
       "      <td>1.4</td>\n",
       "    </tr>\n",
       "    <tr>\n",
       "      <th>334</th>\n",
       "      <td>10</td>\n",
       "      <td>2019.0</td>\n",
       "      <td>15498.0</td>\n",
       "      <td>1</td>\n",
       "      <td>17865.00000</td>\n",
       "      <td>2</td>\n",
       "      <td>145.0</td>\n",
       "      <td>34.9</td>\n",
       "      <td>1.6</td>\n",
       "    </tr>\n",
       "  </tbody>\n",
       "</table>\n",
       "<p>335 rows × 9 columns</p>\n",
       "</div>"
      ],
      "text/plain": [
       "     model    year    price  type     distance  fuel    tax  miles per galoon  \\\n",
       "0        1  2017.0   7999.0     1  17307.00000     2  145.0              58.9   \n",
       "1       10  2017.0  14100.0     2  27299.00000     0  145.0              57.6   \n",
       "2        0  2017.0   7495.0     1  25203.00000     2   30.0              57.7   \n",
       "3        6  2013.0   6998.0     1  72893.96871     0  145.0              53.3   \n",
       "4       10  2016.0  11998.0     1  36512.00000     0   30.0              61.7   \n",
       "..     ...     ...      ...   ...          ...   ...    ...               ...   \n",
       "330     10  2017.0  13000.0     1  26685.00000     0   30.0              61.7   \n",
       "331      9  2017.0  18999.0     0  20599.00000     0  150.0              42.8   \n",
       "332     10  2019.0  15498.0     1  23773.00000     2  145.0              34.9   \n",
       "333      5  2017.0   9998.0     1   9604.00000     2  145.0              50.4   \n",
       "334     10  2019.0  15498.0     1  17865.00000     2  145.0              34.9   \n",
       "\n",
       "     size  \n",
       "0     1.2  \n",
       "1     1.7  \n",
       "2     1.2  \n",
       "3     1.7  \n",
       "4     1.7  \n",
       "..    ...  \n",
       "330   1.7  \n",
       "331   2.2  \n",
       "332   1.6  \n",
       "333   1.4  \n",
       "334   1.6  \n",
       "\n",
       "[335 rows x 9 columns]"
      ]
     },
     "execution_count": 2,
     "metadata": {},
     "output_type": "execute_result"
    }
   ],
   "source": [
    "df = pd.read_csv('hyundai1.csv', sep=',')\n",
    "df"
   ]
  },
  {
   "cell_type": "code",
   "execution_count": 3,
   "id": "c8f5922d",
   "metadata": {},
   "outputs": [
    {
     "data": {
      "text/html": [
       "<div>\n",
       "<style scoped>\n",
       "    .dataframe tbody tr th:only-of-type {\n",
       "        vertical-align: middle;\n",
       "    }\n",
       "\n",
       "    .dataframe tbody tr th {\n",
       "        vertical-align: top;\n",
       "    }\n",
       "\n",
       "    .dataframe thead th {\n",
       "        text-align: right;\n",
       "    }\n",
       "</style>\n",
       "<table border=\"1\" class=\"dataframe\">\n",
       "  <thead>\n",
       "    <tr style=\"text-align: right;\">\n",
       "      <th></th>\n",
       "      <th>model</th>\n",
       "      <th>year</th>\n",
       "      <th>type</th>\n",
       "      <th>distance</th>\n",
       "      <th>fuel</th>\n",
       "      <th>tax</th>\n",
       "      <th>miles per galoon</th>\n",
       "      <th>size</th>\n",
       "    </tr>\n",
       "  </thead>\n",
       "  <tbody>\n",
       "    <tr>\n",
       "      <th>0</th>\n",
       "      <td>1</td>\n",
       "      <td>2017.0</td>\n",
       "      <td>1</td>\n",
       "      <td>17307.00000</td>\n",
       "      <td>2</td>\n",
       "      <td>145.0</td>\n",
       "      <td>58.9</td>\n",
       "      <td>1.2</td>\n",
       "    </tr>\n",
       "    <tr>\n",
       "      <th>1</th>\n",
       "      <td>10</td>\n",
       "      <td>2017.0</td>\n",
       "      <td>2</td>\n",
       "      <td>27299.00000</td>\n",
       "      <td>0</td>\n",
       "      <td>145.0</td>\n",
       "      <td>57.6</td>\n",
       "      <td>1.7</td>\n",
       "    </tr>\n",
       "    <tr>\n",
       "      <th>2</th>\n",
       "      <td>0</td>\n",
       "      <td>2017.0</td>\n",
       "      <td>1</td>\n",
       "      <td>25203.00000</td>\n",
       "      <td>2</td>\n",
       "      <td>30.0</td>\n",
       "      <td>57.7</td>\n",
       "      <td>1.2</td>\n",
       "    </tr>\n",
       "    <tr>\n",
       "      <th>3</th>\n",
       "      <td>6</td>\n",
       "      <td>2013.0</td>\n",
       "      <td>1</td>\n",
       "      <td>72893.96871</td>\n",
       "      <td>0</td>\n",
       "      <td>145.0</td>\n",
       "      <td>53.3</td>\n",
       "      <td>1.7</td>\n",
       "    </tr>\n",
       "    <tr>\n",
       "      <th>4</th>\n",
       "      <td>10</td>\n",
       "      <td>2016.0</td>\n",
       "      <td>1</td>\n",
       "      <td>36512.00000</td>\n",
       "      <td>0</td>\n",
       "      <td>30.0</td>\n",
       "      <td>61.7</td>\n",
       "      <td>1.7</td>\n",
       "    </tr>\n",
       "    <tr>\n",
       "      <th>...</th>\n",
       "      <td>...</td>\n",
       "      <td>...</td>\n",
       "      <td>...</td>\n",
       "      <td>...</td>\n",
       "      <td>...</td>\n",
       "      <td>...</td>\n",
       "      <td>...</td>\n",
       "      <td>...</td>\n",
       "    </tr>\n",
       "    <tr>\n",
       "      <th>330</th>\n",
       "      <td>10</td>\n",
       "      <td>2017.0</td>\n",
       "      <td>1</td>\n",
       "      <td>26685.00000</td>\n",
       "      <td>0</td>\n",
       "      <td>30.0</td>\n",
       "      <td>61.7</td>\n",
       "      <td>1.7</td>\n",
       "    </tr>\n",
       "    <tr>\n",
       "      <th>331</th>\n",
       "      <td>9</td>\n",
       "      <td>2017.0</td>\n",
       "      <td>0</td>\n",
       "      <td>20599.00000</td>\n",
       "      <td>0</td>\n",
       "      <td>150.0</td>\n",
       "      <td>42.8</td>\n",
       "      <td>2.2</td>\n",
       "    </tr>\n",
       "    <tr>\n",
       "      <th>332</th>\n",
       "      <td>10</td>\n",
       "      <td>2019.0</td>\n",
       "      <td>1</td>\n",
       "      <td>23773.00000</td>\n",
       "      <td>2</td>\n",
       "      <td>145.0</td>\n",
       "      <td>34.9</td>\n",
       "      <td>1.6</td>\n",
       "    </tr>\n",
       "    <tr>\n",
       "      <th>333</th>\n",
       "      <td>5</td>\n",
       "      <td>2017.0</td>\n",
       "      <td>1</td>\n",
       "      <td>9604.00000</td>\n",
       "      <td>2</td>\n",
       "      <td>145.0</td>\n",
       "      <td>50.4</td>\n",
       "      <td>1.4</td>\n",
       "    </tr>\n",
       "    <tr>\n",
       "      <th>334</th>\n",
       "      <td>10</td>\n",
       "      <td>2019.0</td>\n",
       "      <td>1</td>\n",
       "      <td>17865.00000</td>\n",
       "      <td>2</td>\n",
       "      <td>145.0</td>\n",
       "      <td>34.9</td>\n",
       "      <td>1.6</td>\n",
       "    </tr>\n",
       "  </tbody>\n",
       "</table>\n",
       "<p>335 rows × 8 columns</p>\n",
       "</div>"
      ],
      "text/plain": [
       "     model    year  type     distance  fuel    tax  miles per galoon  size\n",
       "0        1  2017.0     1  17307.00000     2  145.0              58.9   1.2\n",
       "1       10  2017.0     2  27299.00000     0  145.0              57.6   1.7\n",
       "2        0  2017.0     1  25203.00000     2   30.0              57.7   1.2\n",
       "3        6  2013.0     1  72893.96871     0  145.0              53.3   1.7\n",
       "4       10  2016.0     1  36512.00000     0   30.0              61.7   1.7\n",
       "..     ...     ...   ...          ...   ...    ...               ...   ...\n",
       "330     10  2017.0     1  26685.00000     0   30.0              61.7   1.7\n",
       "331      9  2017.0     0  20599.00000     0  150.0              42.8   2.2\n",
       "332     10  2019.0     1  23773.00000     2  145.0              34.9   1.6\n",
       "333      5  2017.0     1   9604.00000     2  145.0              50.4   1.4\n",
       "334     10  2019.0     1  17865.00000     2  145.0              34.9   1.6\n",
       "\n",
       "[335 rows x 8 columns]"
      ]
     },
     "execution_count": 3,
     "metadata": {},
     "output_type": "execute_result"
    }
   ],
   "source": [
    "X = df.iloc[:, [True,True,False,True,True,True,True,True,True]]\n",
    "y = df['price']\n",
    "from sklearn.model_selection import train_test_split\n",
    "X_train, X_test, y_train, y_test = train_test_split(X, y, test_size=0.2, random_state=10)\n",
    "X"
   ]
  },
  {
   "cell_type": "code",
   "execution_count": 4,
   "id": "0338340e",
   "metadata": {},
   "outputs": [
    {
     "data": {
      "text/plain": [
       "(array([1456.39058312]), -2925633.897746495)"
      ]
     },
     "execution_count": 4,
     "metadata": {},
     "output_type": "execute_result"
    }
   ],
   "source": [
    "f1 = ['year']\n",
    "\n",
    "from sklearn.linear_model import LinearRegression\n",
    "sr = LinearRegression().fit(X_train[f1], y_train)\n",
    "\n",
    "sr.coef_, sr.intercept_"
   ]
  },
  {
   "cell_type": "markdown",
   "id": "98dd1715",
   "metadata": {},
   "source": [
    "Линейная регрессия имеет вид Цена = 1456.39058312*Год-2925633.897746495"
   ]
  },
  {
   "cell_type": "code",
   "execution_count": 5,
   "id": "68b95782",
   "metadata": {},
   "outputs": [
    {
     "data": {
      "text/plain": [
       "(0.369, 0.278)"
      ]
     },
     "execution_count": 5,
     "metadata": {},
     "output_type": "execute_result"
    }
   ],
   "source": [
    "y_pred = sr.predict(X_test[f1])\n",
    "sr.score(X_train[f1], y_train).round(3), sr.score(X_test[f1], y_test).round(3)"
   ]
  },
  {
   "cell_type": "code",
   "execution_count": 6,
   "id": "d36a143b",
   "metadata": {},
   "outputs": [
    {
     "data": {
      "text/plain": [
       "(3061.14, 3567.96)"
      ]
     },
     "execution_count": 6,
     "metadata": {},
     "output_type": "execute_result"
    }
   ],
   "source": [
    "from sklearn.metrics import mean_squared_error\n",
    "mean_squared_error(y_train, sr.predict(X_train[f1]), squared=False).round(2), mean_squared_error(y_test, y_pred, squared=False).round(2)"
   ]
  },
  {
   "cell_type": "code",
   "execution_count": 7,
   "id": "378eb273",
   "metadata": {},
   "outputs": [
    {
     "data": {
      "image/png": "[encoded data removed]",
      "text/plain": [
       "<Figure size 432x288 with 1 Axes>"
      ]
     },
     "metadata": {
      "needs_background": "light"
     },
     "output_type": "display_data"
    }
   ],
   "source": [
    "plt.scatter(X_test['year'], y_test, color = 'red')\n",
    "plt.plot(X_test['year'], sr.predict(X_test[f1]), 'bo')\n",
    "plt.title('Price & Year (Test set)')\n",
    "plt.xlabel('Year')\n",
    "plt.ylabel('Price')\n",
    "plt.show()"
   ]
  },
  {
   "cell_type": "markdown",
   "id": "a7e6bf16",
   "metadata": {},
   "source": [
    "График показал, чем моложе автомобиль, тем выше его цена"
   ]
  },
  {
   "cell_type": "code",
   "execution_count": 8,
   "id": "d5191d15",
   "metadata": {},
   "outputs": [
    {
     "data": {
      "text/plain": [
       "0.86"
      ]
     },
     "execution_count": 8,
     "metadata": {},
     "output_type": "execute_result"
    }
   ],
   "source": [
    "mr = LinearRegression().fit(X_train, y_train)\n",
    "mr.score(X_train, y_train).round(3)"
   ]
  },
  {
   "cell_type": "markdown",
   "id": "4e17cc28",
   "metadata": {},
   "source": [
    "Коэффициент регрессии = 0.86"
   ]
  },
  {
   "cell_type": "code",
   "execution_count": 10,
   "id": "5306e2e8",
   "metadata": {},
   "outputs": [
    {
     "data": {
      "image/png": "[encoded data removed]",
      "text/plain": [
       "<Figure size 432x288 with 1 Axes>"
      ]
     },
     "metadata": {
      "needs_background": "light"
     },
     "output_type": "display_data"
    }
   ],
   "source": [
    "# Visualising the Test set results\n",
    "plt.scatter(X_test['year'], y_test, color = 'red')\n",
    "plt.plot(X_test['year'], mr.predict(X_test), 'bo')\n",
    "plt.title('Price & Year')\n",
    "plt.xlabel('Year')\n",
    "plt.ylabel('Price')\n",
    "plt.show()"
   ]
  },
  {
   "cell_type": "code",
   "execution_count": 11,
   "id": "fe5f30f5",
   "metadata": {},
   "outputs": [
    {
     "data": {
      "text/html": [
       "<table class=\"simpletable\">\n",
       "<caption>OLS Regression Results</caption>\n",
       "<tr>\n",
       "  <th>Dep. Variable:</th>          <td>price</td>      <th>  R-squared:         </th> <td>   0.860</td> \n",
       "</tr>\n",
       "<tr>\n",
       "  <th>Model:</th>                   <td>OLS</td>       <th>  Adj. R-squared:    </th> <td>   0.856</td> \n",
       "</tr>\n",
       "<tr>\n",
       "  <th>Method:</th>             <td>Least Squares</td>  <th>  F-statistic:       </th> <td>   198.8</td> \n",
       "</tr>\n",
       "<tr>\n",
       "  <th>Date:</th>             <td>Tue, 28 Dec 2021</td> <th>  Prob (F-statistic):</th> <td>6.87e-106</td>\n",
       "</tr>\n",
       "<tr>\n",
       "  <th>Time:</th>                 <td>01:53:18</td>     <th>  Log-Likelihood:    </th> <td> -2329.8</td> \n",
       "</tr>\n",
       "<tr>\n",
       "  <th>No. Observations:</th>      <td>   268</td>      <th>  AIC:               </th> <td>   4678.</td> \n",
       "</tr>\n",
       "<tr>\n",
       "  <th>Df Residuals:</th>          <td>   259</td>      <th>  BIC:               </th> <td>   4710.</td> \n",
       "</tr>\n",
       "<tr>\n",
       "  <th>Df Model:</th>              <td>     8</td>      <th>                     </th>     <td> </td>    \n",
       "</tr>\n",
       "<tr>\n",
       "  <th>Covariance Type:</th>      <td>nonrobust</td>    <th>                     </th>     <td> </td>    \n",
       "</tr>\n",
       "</table>\n",
       "<table class=\"simpletable\">\n",
       "<tr>\n",
       "          <td></td>            <th>coef</th>     <th>std err</th>      <th>t</th>      <th>P>|t|</th>  <th>[0.025</th>    <th>0.975]</th>  \n",
       "</tr>\n",
       "<tr>\n",
       "  <th>const</th>            <td>-2.056e+06</td> <td> 1.62e+05</td> <td>  -12.663</td> <td> 0.000</td> <td>-2.38e+06</td> <td>-1.74e+06</td>\n",
       "</tr>\n",
       "<tr>\n",
       "  <th>model</th>            <td>  345.9799</td> <td>   27.517</td> <td>   12.573</td> <td> 0.000</td> <td>  291.794</td> <td>  400.166</td>\n",
       "</tr>\n",
       "<tr>\n",
       "  <th>year</th>             <td> 1022.5397</td> <td>   80.441</td> <td>   12.712</td> <td> 0.000</td> <td>  864.138</td> <td> 1180.941</td>\n",
       "</tr>\n",
       "<tr>\n",
       "  <th>type</th>             <td> -420.6006</td> <td>  265.049</td> <td>   -1.587</td> <td> 0.114</td> <td> -942.526</td> <td>  101.325</td>\n",
       "</tr>\n",
       "<tr>\n",
       "  <th>distance</th>         <td>   -0.0667</td> <td>    0.008</td> <td>   -7.907</td> <td> 0.000</td> <td>   -0.083</td> <td>   -0.050</td>\n",
       "</tr>\n",
       "<tr>\n",
       "  <th>fuel</th>             <td> -360.7818</td> <td>  218.495</td> <td>   -1.651</td> <td> 0.100</td> <td> -791.035</td> <td>   69.471</td>\n",
       "</tr>\n",
       "<tr>\n",
       "  <th>tax</th>              <td>    3.0321</td> <td>    1.838</td> <td>    1.650</td> <td> 0.100</td> <td>   -0.586</td> <td>    6.651</td>\n",
       "</tr>\n",
       "<tr>\n",
       "  <th>miles per galoon</th> <td>  -13.7424</td> <td>   13.547</td> <td>   -1.014</td> <td> 0.311</td> <td>  -40.420</td> <td>   12.935</td>\n",
       "</tr>\n",
       "<tr>\n",
       "  <th>size</th>             <td> 3886.9774</td> <td>  544.066</td> <td>    7.144</td> <td> 0.000</td> <td> 2815.622</td> <td> 4958.332</td>\n",
       "</tr>\n",
       "</table>\n",
       "<table class=\"simpletable\">\n",
       "<tr>\n",
       "  <th>Omnibus:</th>       <td>70.900</td> <th>  Durbin-Watson:     </th> <td>   2.096</td>\n",
       "</tr>\n",
       "<tr>\n",
       "  <th>Prob(Omnibus):</th> <td> 0.000</td> <th>  Jarque-Bera (JB):  </th> <td> 179.172</td>\n",
       "</tr>\n",
       "<tr>\n",
       "  <th>Skew:</th>          <td> 1.218</td> <th>  Prob(JB):          </th> <td>1.24e-39</td>\n",
       "</tr>\n",
       "<tr>\n",
       "  <th>Kurtosis:</th>      <td> 6.179</td> <th>  Cond. No.          </th> <td>5.20e+07</td>\n",
       "</tr>\n",
       "</table><br/><br/>Notes:<br/>[1] Standard Errors assume that the covariance matrix of the errors is correctly specified.<br/>[2] The condition number is large, 5.2e+07. This might indicate that there are<br/>strong multicollinearity or other numerical problems."
      ],
      "text/plain": [
       "<class 'statsmodels.iolib.summary.Summary'>\n",
       "\"\"\"\n",
       "                            OLS Regression Results                            \n",
       "==============================================================================\n",
       "Dep. Variable:                  price   R-squared:                       0.860\n",
       "Model:                            OLS   Adj. R-squared:                  0.856\n",
       "Method:                 Least Squares   F-statistic:                     198.8\n",
       "Date:                Tue, 28 Dec 2021   Prob (F-statistic):          6.87e-106\n",
       "Time:                        01:53:18   Log-Likelihood:                -2329.8\n",
       "No. Observations:                 268   AIC:                             4678.\n",
       "Df Residuals:                     259   BIC:                             4710.\n",
       "Df Model:                           8                                         \n",
       "Covariance Type:            nonrobust                                         \n",
       "====================================================================================\n",
       "                       coef    std err          t      P>|t|      [0.025      0.975]\n",
       "------------------------------------------------------------------------------------\n",
       "const            -2.056e+06   1.62e+05    -12.663      0.000   -2.38e+06   -1.74e+06\n",
       "model              345.9799     27.517     12.573      0.000     291.794     400.166\n",
       "year              1022.5397     80.441     12.712      0.000     864.138    1180.941\n",
       "type              -420.6006    265.049     -1.587      0.114    -942.526     101.325\n",
       "distance            -0.0667      0.008     -7.907      0.000      -0.083      -0.050\n",
       "fuel              -360.7818    218.495     -1.651      0.100    -791.035      69.471\n",
       "tax                  3.0321      1.838      1.650      0.100      -0.586       6.651\n",
       "miles per galoon   -13.7424     13.547     -1.014      0.311     -40.420      12.935\n",
       "size              3886.9774    544.066      7.144      0.000    2815.622    4958.332\n",
       "==============================================================================\n",
       "Omnibus:                       70.900   Durbin-Watson:                   2.096\n",
       "Prob(Omnibus):                  0.000   Jarque-Bera (JB):              179.172\n",
       "Skew:                           1.218   Prob(JB):                     1.24e-39\n",
       "Kurtosis:                       6.179   Cond. No.                     5.20e+07\n",
       "==============================================================================\n",
       "\n",
       "Notes:\n",
       "[1] Standard Errors assume that the covariance matrix of the errors is correctly specified.\n",
       "[2] The condition number is large, 5.2e+07. This might indicate that there are\n",
       "strong multicollinearity or other numerical problems.\n",
       "\"\"\""
      ]
     },
     "execution_count": 11,
     "metadata": {},
     "output_type": "execute_result"
    }
   ],
   "source": [
    "# Checking p-values\n",
    "import statsmodels.api as sm\n",
    "X1 = sm.add_constant(X_train)\n",
    "mr1 = sm.OLS(y_train, X1).fit()\n",
    "#mr1.pvalues\n",
    "mr1.summary()"
   ]
  },
  {
   "cell_type": "code",
   "execution_count": 12,
   "id": "bc27b1cf",
   "metadata": {},
   "outputs": [
    {
     "data": {
      "text/plain": [
       "(array([ 1.83424326e+08,  1.58267456e+04,  1.03303697e+05, -2.39800000e+06,\n",
       "         6.09989919e+01, -6.95396405e+05, -4.09311935e+03, -3.72789914e+04,\n",
       "        -3.05243535e+06, -4.35747587e+01, -5.76213407e+00, -2.10869358e+02,\n",
       "         2.95129255e-03, -3.35928259e+02, -4.89718955e+00, -2.44922019e+01,\n",
       "        -7.00491468e+02, -2.63674616e+01,  1.19381704e+03, -3.02591730e-02,\n",
       "         3.50695888e+02,  2.17523190e+00,  1.91058487e+01,  1.48640676e+03,\n",
       "         1.17094951e+03,  1.09374381e-01, -3.02650549e+03,  1.25439041e+01,\n",
       "        -1.04344048e+02, -4.59738142e+03, -1.89522689e-06,  7.39587048e-03,\n",
       "        -1.24572877e-04, -2.99306000e-04, -7.79998238e-03, -2.33639214e+03,\n",
       "        -3.96570446e+01, -1.49651911e+02,  6.66094900e+03, -3.15835247e-01,\n",
       "        -3.24031478e+00,  4.83286124e+00, -7.69929261e+00,  2.41420089e+02,\n",
       "         1.56976123e+04]),\n",
       " -284538234.4326029)"
      ]
     },
     "execution_count": 12,
     "metadata": {},
     "output_type": "execute_result"
    }
   ],
   "source": [
    "# Fitting Polynomial Regression to the dataset\n",
    "from sklearn.preprocessing import PolynomialFeatures\n",
    "X_train_p = PolynomialFeatures().fit_transform(X_train)\n",
    "X_test_p = PolynomialFeatures().fit_transform(X_test)\n",
    "\n",
    "pr = LinearRegression().fit(X_train_p, y_train)\n",
    "\n",
    "# Getting parameters\n",
    "pr.coef_, pr.intercept_"
   ]
  },
  {
   "cell_type": "code",
   "execution_count": 13,
   "id": "8969b708",
   "metadata": {},
   "outputs": [
    {
     "data": {
      "text/plain": [
       "0.875"
      ]
     },
     "execution_count": 13,
     "metadata": {},
     "output_type": "execute_result"
    }
   ],
   "source": [
    "# Predicting the Test set results\n",
    "y_pred = pr.predict(X_test_p)\n",
    "\n",
    "# Coefficient of determination R^2\n",
    "pr.score(X_train_p, y_train).round(3)"
   ]
  },
  {
   "cell_type": "markdown",
   "id": "41b42e7e",
   "metadata": {},
   "source": [
    "R^2 лучше для множественной линейной регресси."
   ]
  },
  {
   "cell_type": "code",
   "execution_count": 14,
   "id": "6c467cf4",
   "metadata": {},
   "outputs": [
    {
     "data": {
      "text/plain": [
       "(1360.42, 1668.18)"
      ]
     },
     "execution_count": 14,
     "metadata": {},
     "output_type": "execute_result"
    }
   ],
   "source": [
    "# Mean squared error\n",
    "mean_squared_error(y_train, pr.predict(X_train_p), squared=False).round(2), mean_squared_error(y_test, y_pred, squared=False).round(2)"
   ]
  },
  {
   "cell_type": "code",
   "execution_count": 15,
   "id": "e356c98b",
   "metadata": {},
   "outputs": [
    {
     "data": {
      "image/png": "[encoded data removed]",
      "text/plain": [
       "<Figure size 432x288 with 1 Axes>"
      ]
     },
     "metadata": {
      "needs_background": "light"
     },
     "output_type": "display_data"
    }
   ],
   "source": [
    "# Visualising the Test set results\n",
    "plt.scatter(X_test['year'], y_test, color = 'red')\n",
    "plt.plot(X_test['year'], pr.predict(X_test_p), 'bo')\n",
    "plt.title('Price vs year (Test set)')\n",
    "plt.xlabel('year')\n",
    "plt.ylabel('Price')\n",
    "plt.show()\n"
   ]
  },
  {
   "cell_type": "code",
   "execution_count": 16,
   "id": "9268a444",
   "metadata": {},
   "outputs": [],
   "source": [
    "import pickle\n",
    "obj = {'X_train': X_train, 'X_test': X_test,'y_train': y_train,'y_test': y_test}\n",
    "output = open('hyundai2.pkl', 'wb')\n",
    "pickle.dump(obj, output, 2)\n",
    "output.close()"
   ]
  },
  {
   "cell_type": "code",
   "execution_count": null,
   "id": "90a8a84b",
   "metadata": {},
   "outputs": [],
   "source": []
  }
 ],
 "metadata": {
  "kernelspec": {
   "display_name": "Python 3",
   "language": "python",
   "name": "python3"
  },
  "language_info": {
   "codemirror_mode": {
    "name": "ipython",
    "version": 3
   },
   "file_extension": ".py",
   "mimetype": "text/x-python",
   "name": "python",
   "nbconvert_exporter": "python",
   "pygments_lexer": "ipython3",
   "version": "3.8.8"
  }
 },
 "nbformat": 4,
 "nbformat_minor": 5
}
