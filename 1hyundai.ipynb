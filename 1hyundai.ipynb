{
 "cells": [
  {
   "cell_type": "code",
   "execution_count": 2,
   "id": "b3e8f27e",
   "metadata": {},
   "outputs": [],
   "source": [
    "import pandas as pd\n",
    "import numpy as np\n",
    "\n",
    "%matplotlib inline\n",
    "import matplotlib\n",
    "import matplotlib.pyplot as plt\n",
    "import seaborn as sns\n",
    "\n",
    "import zipfile\n",
    "\n",
    "import os\n",
    "from sklearn.model_selection import train_test_split \n",
    "\n",
    "for dirname, _, filenames in os.walk('hyundai_price(2020) data.csv'):\n",
    "    for filename in filenames:\n",
    "        print(os.path.join(dirname, filename))"
   ]
  },
  {
   "cell_type": "code",
   "execution_count": 3,
   "id": "aa29540d",
   "metadata": {},
   "outputs": [
    {
     "data": {
      "text/html": [
       "<div>\n",
       "<style scoped>\n",
       "    .dataframe tbody tr th:only-of-type {\n",
       "        vertical-align: middle;\n",
       "    }\n",
       "\n",
       "    .dataframe tbody tr th {\n",
       "        vertical-align: top;\n",
       "    }\n",
       "\n",
       "    .dataframe thead th {\n",
       "        text-align: right;\n",
       "    }\n",
       "</style>\n",
       "<table border=\"1\" class=\"dataframe\">\n",
       "  <thead>\n",
       "    <tr style=\"text-align: right;\">\n",
       "      <th></th>\n",
       "      <th>model</th>\n",
       "      <th>year</th>\n",
       "      <th>price</th>\n",
       "      <th>type</th>\n",
       "      <th>distance</th>\n",
       "      <th>fuel</th>\n",
       "      <th>tax</th>\n",
       "      <th>miles per galoon</th>\n",
       "      <th>size</th>\n",
       "    </tr>\n",
       "  </thead>\n",
       "  <tbody>\n",
       "    <tr>\n",
       "      <th>0</th>\n",
       "      <td>I20</td>\n",
       "      <td>2017</td>\n",
       "      <td>7999</td>\n",
       "      <td>Manual</td>\n",
       "      <td>17307</td>\n",
       "      <td>Petrol</td>\n",
       "      <td>145</td>\n",
       "      <td>58.9</td>\n",
       "      <td>1.2</td>\n",
       "    </tr>\n",
       "    <tr>\n",
       "      <th>1</th>\n",
       "      <td>Tucson</td>\n",
       "      <td>2017</td>\n",
       "      <td>14100</td>\n",
       "      <td>Semi-Auto</td>\n",
       "      <td>27299</td>\n",
       "      <td>Diesel</td>\n",
       "      <td>145</td>\n",
       "      <td>57.6</td>\n",
       "      <td>1.7</td>\n",
       "    </tr>\n",
       "    <tr>\n",
       "      <th>2</th>\n",
       "      <td>I10</td>\n",
       "      <td>2017</td>\n",
       "      <td>7495</td>\n",
       "      <td>Manual</td>\n",
       "      <td>25203</td>\n",
       "      <td>Petrol</td>\n",
       "      <td>30</td>\n",
       "      <td>57.7</td>\n",
       "      <td>1.2</td>\n",
       "    </tr>\n",
       "    <tr>\n",
       "      <th>3</th>\n",
       "      <td>IX35</td>\n",
       "      <td>2013</td>\n",
       "      <td>6998</td>\n",
       "      <td>Manual</td>\n",
       "      <td>80465</td>\n",
       "      <td>Diesel</td>\n",
       "      <td>145</td>\n",
       "      <td>53.3</td>\n",
       "      <td>1.7</td>\n",
       "    </tr>\n",
       "    <tr>\n",
       "      <th>4</th>\n",
       "      <td>Tucson</td>\n",
       "      <td>2016</td>\n",
       "      <td>11998</td>\n",
       "      <td>Manual</td>\n",
       "      <td>36512</td>\n",
       "      <td>Diesel</td>\n",
       "      <td>30</td>\n",
       "      <td>61.7</td>\n",
       "      <td>1.7</td>\n",
       "    </tr>\n",
       "    <tr>\n",
       "      <th>...</th>\n",
       "      <td>...</td>\n",
       "      <td>...</td>\n",
       "      <td>...</td>\n",
       "      <td>...</td>\n",
       "      <td>...</td>\n",
       "      <td>...</td>\n",
       "      <td>...</td>\n",
       "      <td>...</td>\n",
       "      <td>...</td>\n",
       "    </tr>\n",
       "    <tr>\n",
       "      <th>330</th>\n",
       "      <td>Tucson</td>\n",
       "      <td>2017</td>\n",
       "      <td>13000</td>\n",
       "      <td>Manual</td>\n",
       "      <td>26685</td>\n",
       "      <td>Diesel</td>\n",
       "      <td>30</td>\n",
       "      <td>61.7</td>\n",
       "      <td>1.7</td>\n",
       "    </tr>\n",
       "    <tr>\n",
       "      <th>331</th>\n",
       "      <td>Santa Fe</td>\n",
       "      <td>2017</td>\n",
       "      <td>18999</td>\n",
       "      <td>Automatic</td>\n",
       "      <td>20599</td>\n",
       "      <td>Diesel</td>\n",
       "      <td>150</td>\n",
       "      <td>42.8</td>\n",
       "      <td>2.2</td>\n",
       "    </tr>\n",
       "    <tr>\n",
       "      <th>332</th>\n",
       "      <td>Tucson</td>\n",
       "      <td>2019</td>\n",
       "      <td>15498</td>\n",
       "      <td>Manual</td>\n",
       "      <td>23773</td>\n",
       "      <td>Petrol</td>\n",
       "      <td>145</td>\n",
       "      <td>34.9</td>\n",
       "      <td>1.6</td>\n",
       "    </tr>\n",
       "    <tr>\n",
       "      <th>333</th>\n",
       "      <td>IX20</td>\n",
       "      <td>2017</td>\n",
       "      <td>9998</td>\n",
       "      <td>Manual</td>\n",
       "      <td>9604</td>\n",
       "      <td>Petrol</td>\n",
       "      <td>145</td>\n",
       "      <td>50.4</td>\n",
       "      <td>1.4</td>\n",
       "    </tr>\n",
       "    <tr>\n",
       "      <th>334</th>\n",
       "      <td>Tucson</td>\n",
       "      <td>2019</td>\n",
       "      <td>15498</td>\n",
       "      <td>Manual</td>\n",
       "      <td>17865</td>\n",
       "      <td>Petrol</td>\n",
       "      <td>145</td>\n",
       "      <td>34.9</td>\n",
       "      <td>1.6</td>\n",
       "    </tr>\n",
       "  </tbody>\n",
       "</table>\n",
       "<p>335 rows × 9 columns</p>\n",
       "</div>"
      ],
      "text/plain": [
       "        model  year  price       type  distance    fuel  tax  \\\n",
       "0         I20  2017   7999     Manual     17307  Petrol  145   \n",
       "1      Tucson  2017  14100  Semi-Auto     27299  Diesel  145   \n",
       "2         I10  2017   7495     Manual     25203  Petrol   30   \n",
       "3        IX35  2013   6998     Manual     80465  Diesel  145   \n",
       "4      Tucson  2016  11998     Manual     36512  Diesel   30   \n",
       "..        ...   ...    ...        ...       ...     ...  ...   \n",
       "330    Tucson  2017  13000     Manual     26685  Diesel   30   \n",
       "331  Santa Fe  2017  18999  Automatic     20599  Diesel  150   \n",
       "332    Tucson  2019  15498     Manual     23773  Petrol  145   \n",
       "333      IX20  2017   9998     Manual      9604  Petrol  145   \n",
       "334    Tucson  2019  15498     Manual     17865  Petrol  145   \n",
       "\n",
       "     miles per galoon  size  \n",
       "0                58.9   1.2  \n",
       "1                57.6   1.7  \n",
       "2                57.7   1.2  \n",
       "3                53.3   1.7  \n",
       "4                61.7   1.7  \n",
       "..                ...   ...  \n",
       "330              61.7   1.7  \n",
       "331              42.8   2.2  \n",
       "332              34.9   1.6  \n",
       "333              50.4   1.4  \n",
       "334              34.9   1.6  \n",
       "\n",
       "[335 rows x 9 columns]"
      ]
     },
     "execution_count": 3,
     "metadata": {},
     "output_type": "execute_result"
    }
   ],
   "source": [
    "df = pd.read_excel('Hyundai.xlsx', sheet_name='Hyundai')\n",
    "df"
   ]
  },
  {
   "cell_type": "code",
   "execution_count": 4,
   "id": "827a6c34",
   "metadata": {},
   "outputs": [
    {
     "name": "stdout",
     "output_type": "stream",
     "text": [
      "<class 'pandas.core.frame.DataFrame'>\n",
      "RangeIndex: 335 entries, 0 to 334\n",
      "Data columns (total 9 columns):\n",
      " #   Column            Non-Null Count  Dtype  \n",
      "---  ------            --------------  -----  \n",
      " 0   model             335 non-null    object \n",
      " 1   year              335 non-null    int64  \n",
      " 2   price             335 non-null    int64  \n",
      " 3   type              335 non-null    object \n",
      " 4   distance          335 non-null    int64  \n",
      " 5   fuel              335 non-null    object \n",
      " 6   tax               335 non-null    int64  \n",
      " 7   miles per galoon  335 non-null    float64\n",
      " 8   size              335 non-null    float64\n",
      "dtypes: float64(2), int64(4), object(3)\n",
      "memory usage: 23.7+ KB\n"
     ]
    }
   ],
   "source": [
    "df.info()"
   ]
  },
  {
   "cell_type": "markdown",
   "id": "fcfbf8db",
   "metadata": {},
   "source": [
    "В датасет нет пропущенных знaчений"
   ]
  },
  {
   "cell_type": "code",
   "execution_count": 5,
   "id": "9b8454fe",
   "metadata": {},
   "outputs": [
    {
     "data": {
      "text/plain": [
       "model               0\n",
       "year                0\n",
       "price               0\n",
       "type                0\n",
       "distance            0\n",
       "fuel                0\n",
       "tax                 0\n",
       "miles per galoon    0\n",
       "size                0\n",
       "dtype: int64"
      ]
     },
     "execution_count": 5,
     "metadata": {},
     "output_type": "execute_result"
    }
   ],
   "source": [
    "df.isnull().sum()"
   ]
  },
  {
   "cell_type": "code",
   "execution_count": 6,
   "id": "21bb706f",
   "metadata": {},
   "outputs": [
    {
     "data": {
      "text/plain": [
       "model                object\n",
       "year                  int64\n",
       "price                 int64\n",
       "type                 object\n",
       "distance              int64\n",
       "fuel                 object\n",
       "tax                   int64\n",
       "miles per galoon    float64\n",
       "size                float64\n",
       "dtype: object"
      ]
     },
     "execution_count": 6,
     "metadata": {},
     "output_type": "execute_result"
    }
   ],
   "source": [
    "df.dtypes"
   ]
  },
  {
   "cell_type": "code",
   "execution_count": 7,
   "id": "f5d5c2a6",
   "metadata": {},
   "outputs": [
    {
     "data": {
      "text/html": [
       "<div>\n",
       "<style scoped>\n",
       "    .dataframe tbody tr th:only-of-type {\n",
       "        vertical-align: middle;\n",
       "    }\n",
       "\n",
       "    .dataframe tbody tr th {\n",
       "        vertical-align: top;\n",
       "    }\n",
       "\n",
       "    .dataframe thead th {\n",
       "        text-align: right;\n",
       "    }\n",
       "</style>\n",
       "<table border=\"1\" class=\"dataframe\">\n",
       "  <thead>\n",
       "    <tr style=\"text-align: right;\">\n",
       "      <th></th>\n",
       "      <th>year</th>\n",
       "      <th>price</th>\n",
       "      <th>distance</th>\n",
       "      <th>tax</th>\n",
       "      <th>miles per galoon</th>\n",
       "      <th>size</th>\n",
       "    </tr>\n",
       "  </thead>\n",
       "  <tbody>\n",
       "    <tr>\n",
       "      <th>count</th>\n",
       "      <td>335.000000</td>\n",
       "      <td>335.000000</td>\n",
       "      <td>335.000000</td>\n",
       "      <td>335.000000</td>\n",
       "      <td>335.000000</td>\n",
       "      <td>335.000000</td>\n",
       "    </tr>\n",
       "    <tr>\n",
       "      <th>mean</th>\n",
       "      <td>2016.850746</td>\n",
       "      <td>11855.794030</td>\n",
       "      <td>23965.337313</td>\n",
       "      <td>114.119403</td>\n",
       "      <td>53.754030</td>\n",
       "      <td>1.494925</td>\n",
       "    </tr>\n",
       "    <tr>\n",
       "      <th>std</th>\n",
       "      <td>1.636538</td>\n",
       "      <td>4215.466046</td>\n",
       "      <td>16309.543799</td>\n",
       "      <td>61.460888</td>\n",
       "      <td>11.115859</td>\n",
       "      <td>0.373130</td>\n",
       "    </tr>\n",
       "    <tr>\n",
       "      <th>min</th>\n",
       "      <td>2011.000000</td>\n",
       "      <td>3799.000000</td>\n",
       "      <td>10.000000</td>\n",
       "      <td>0.000000</td>\n",
       "      <td>28.000000</td>\n",
       "      <td>1.000000</td>\n",
       "    </tr>\n",
       "    <tr>\n",
       "      <th>25%</th>\n",
       "      <td>2016.000000</td>\n",
       "      <td>8299.000000</td>\n",
       "      <td>12246.500000</td>\n",
       "      <td>30.000000</td>\n",
       "      <td>44.800000</td>\n",
       "      <td>1.200000</td>\n",
       "    </tr>\n",
       "    <tr>\n",
       "      <th>50%</th>\n",
       "      <td>2017.000000</td>\n",
       "      <td>11998.000000</td>\n",
       "      <td>20746.000000</td>\n",
       "      <td>145.000000</td>\n",
       "      <td>55.400000</td>\n",
       "      <td>1.600000</td>\n",
       "    </tr>\n",
       "    <tr>\n",
       "      <th>75%</th>\n",
       "      <td>2018.000000</td>\n",
       "      <td>14549.500000</td>\n",
       "      <td>35001.500000</td>\n",
       "      <td>145.000000</td>\n",
       "      <td>61.700000</td>\n",
       "      <td>1.700000</td>\n",
       "    </tr>\n",
       "    <tr>\n",
       "      <th>max</th>\n",
       "      <td>2020.000000</td>\n",
       "      <td>34998.000000</td>\n",
       "      <td>119050.000000</td>\n",
       "      <td>325.000000</td>\n",
       "      <td>78.500000</td>\n",
       "      <td>2.500000</td>\n",
       "    </tr>\n",
       "  </tbody>\n",
       "</table>\n",
       "</div>"
      ],
      "text/plain": [
       "              year         price       distance         tax  miles per galoon  \\\n",
       "count   335.000000    335.000000     335.000000  335.000000        335.000000   \n",
       "mean   2016.850746  11855.794030   23965.337313  114.119403         53.754030   \n",
       "std       1.636538   4215.466046   16309.543799   61.460888         11.115859   \n",
       "min    2011.000000   3799.000000      10.000000    0.000000         28.000000   \n",
       "25%    2016.000000   8299.000000   12246.500000   30.000000         44.800000   \n",
       "50%    2017.000000  11998.000000   20746.000000  145.000000         55.400000   \n",
       "75%    2018.000000  14549.500000   35001.500000  145.000000         61.700000   \n",
       "max    2020.000000  34998.000000  119050.000000  325.000000         78.500000   \n",
       "\n",
       "             size  \n",
       "count  335.000000  \n",
       "mean     1.494925  \n",
       "std      0.373130  \n",
       "min      1.000000  \n",
       "25%      1.200000  \n",
       "50%      1.600000  \n",
       "75%      1.700000  \n",
       "max      2.500000  "
      ]
     },
     "execution_count": 7,
     "metadata": {},
     "output_type": "execute_result"
    }
   ],
   "source": [
    "df.describe()"
   ]
  },
  {
   "cell_type": "code",
   "execution_count": 8,
   "id": "7b10b3db",
   "metadata": {},
   "outputs": [
    {
     "data": {
      "text/plain": [
       "Index(['model', 'year', 'price', 'type', 'distance', 'fuel', 'tax',\n",
       "       'miles per galoon', 'size'],\n",
       "      dtype='object')"
      ]
     },
     "execution_count": 8,
     "metadata": {},
     "output_type": "execute_result"
    }
   ],
   "source": [
    "df.columns"
   ]
  },
  {
   "cell_type": "code",
   "execution_count": 9,
   "id": "164aedd9",
   "metadata": {},
   "outputs": [],
   "source": [
    "df.columns = ['model', 'year', 'price', 'type', 'distance', 'fuel', 'tax',\n",
    "       'miles per galoon', 'size']"
   ]
  },
  {
   "cell_type": "code",
   "execution_count": 10,
   "id": "3a467a2c",
   "metadata": {},
   "outputs": [],
   "source": [
    "def outliers(df):\n",
    "    num_var = list(df._get_numeric_data().columns)\n",
    "    for col_names in num_var:\n",
    "        df[col_names] = df[col_names].apply(lambda y: df[col_names].mean()-3*df[col_names].std()\n",
    "                            if y < df[col_names].mean()-3*df[col_names].std() else y)\n",
    "        df[col_names] = df[col_names].apply(lambda y: df[col_names].mean()+3*df[col_names].std()\n",
    "                            if y > df[col_names].mean()+3*df[col_names].std() else y)\n",
    "    return(df)"
   ]
  },
  {
   "cell_type": "code",
   "execution_count": 11,
   "id": "243867c6",
   "metadata": {},
   "outputs": [
    {
     "data": {
      "text/html": [
       "<div>\n",
       "<style scoped>\n",
       "    .dataframe tbody tr th:only-of-type {\n",
       "        vertical-align: middle;\n",
       "    }\n",
       "\n",
       "    .dataframe tbody tr th {\n",
       "        vertical-align: top;\n",
       "    }\n",
       "\n",
       "    .dataframe thead th {\n",
       "        text-align: right;\n",
       "    }\n",
       "</style>\n",
       "<table border=\"1\" class=\"dataframe\">\n",
       "  <thead>\n",
       "    <tr style=\"text-align: right;\">\n",
       "      <th></th>\n",
       "      <th>year</th>\n",
       "      <th>price</th>\n",
       "      <th>distance</th>\n",
       "      <th>tax</th>\n",
       "      <th>miles per galoon</th>\n",
       "      <th>size</th>\n",
       "    </tr>\n",
       "  </thead>\n",
       "  <tbody>\n",
       "    <tr>\n",
       "      <th>count</th>\n",
       "      <td>335.000000</td>\n",
       "      <td>335.000000</td>\n",
       "      <td>335.000000</td>\n",
       "      <td>335.000000</td>\n",
       "      <td>335.000000</td>\n",
       "      <td>335.000000</td>\n",
       "    </tr>\n",
       "    <tr>\n",
       "      <th>mean</th>\n",
       "      <td>2016.856365</td>\n",
       "      <td>11793.132491</td>\n",
       "      <td>23804.958022</td>\n",
       "      <td>114.035833</td>\n",
       "      <td>53.754030</td>\n",
       "      <td>1.494925</td>\n",
       "    </tr>\n",
       "    <tr>\n",
       "      <th>std</th>\n",
       "      <td>1.617895</td>\n",
       "      <td>3939.153774</td>\n",
       "      <td>15610.386090</td>\n",
       "      <td>61.191625</td>\n",
       "      <td>11.115859</td>\n",
       "      <td>0.373130</td>\n",
       "    </tr>\n",
       "    <tr>\n",
       "      <th>min</th>\n",
       "      <td>2011.941133</td>\n",
       "      <td>3799.000000</td>\n",
       "      <td>10.000000</td>\n",
       "      <td>0.000000</td>\n",
       "      <td>28.000000</td>\n",
       "      <td>1.000000</td>\n",
       "    </tr>\n",
       "    <tr>\n",
       "      <th>25%</th>\n",
       "      <td>2016.000000</td>\n",
       "      <td>8299.000000</td>\n",
       "      <td>12246.500000</td>\n",
       "      <td>30.000000</td>\n",
       "      <td>44.800000</td>\n",
       "      <td>1.200000</td>\n",
       "    </tr>\n",
       "    <tr>\n",
       "      <th>50%</th>\n",
       "      <td>2017.000000</td>\n",
       "      <td>11998.000000</td>\n",
       "      <td>20746.000000</td>\n",
       "      <td>145.000000</td>\n",
       "      <td>55.400000</td>\n",
       "      <td>1.600000</td>\n",
       "    </tr>\n",
       "    <tr>\n",
       "      <th>75%</th>\n",
       "      <td>2018.000000</td>\n",
       "      <td>14549.500000</td>\n",
       "      <td>35001.500000</td>\n",
       "      <td>145.000000</td>\n",
       "      <td>61.700000</td>\n",
       "      <td>1.700000</td>\n",
       "    </tr>\n",
       "    <tr>\n",
       "      <th>max</th>\n",
       "      <td>2020.000000</td>\n",
       "      <td>24502.192168</td>\n",
       "      <td>72893.968710</td>\n",
       "      <td>298.502068</td>\n",
       "      <td>78.500000</td>\n",
       "      <td>2.500000</td>\n",
       "    </tr>\n",
       "  </tbody>\n",
       "</table>\n",
       "</div>"
      ],
      "text/plain": [
       "              year         price      distance         tax  miles per galoon  \\\n",
       "count   335.000000    335.000000    335.000000  335.000000        335.000000   \n",
       "mean   2016.856365  11793.132491  23804.958022  114.035833         53.754030   \n",
       "std       1.617895   3939.153774  15610.386090   61.191625         11.115859   \n",
       "min    2011.941133   3799.000000     10.000000    0.000000         28.000000   \n",
       "25%    2016.000000   8299.000000  12246.500000   30.000000         44.800000   \n",
       "50%    2017.000000  11998.000000  20746.000000  145.000000         55.400000   \n",
       "75%    2018.000000  14549.500000  35001.500000  145.000000         61.700000   \n",
       "max    2020.000000  24502.192168  72893.968710  298.502068         78.500000   \n",
       "\n",
       "             size  \n",
       "count  335.000000  \n",
       "mean     1.494925  \n",
       "std      0.373130  \n",
       "min      1.000000  \n",
       "25%      1.200000  \n",
       "50%      1.600000  \n",
       "75%      1.700000  \n",
       "max      2.500000  "
      ]
     },
     "execution_count": 11,
     "metadata": {},
     "output_type": "execute_result"
    }
   ],
   "source": [
    "df = outliers(df)\n",
    "df.describe()"
   ]
  },
  {
   "cell_type": "code",
   "execution_count": 12,
   "id": "845467e4",
   "metadata": {},
   "outputs": [
    {
     "data": {
      "text/plain": [
       "(335, 9)"
      ]
     },
     "execution_count": 12,
     "metadata": {},
     "output_type": "execute_result"
    }
   ],
   "source": [
    "df.shape"
   ]
  },
  {
   "cell_type": "code",
   "execution_count": 13,
   "id": "5490a6f2",
   "metadata": {},
   "outputs": [
    {
     "data": {
      "text/plain": [
       "3"
      ]
     },
     "execution_count": 13,
     "metadata": {},
     "output_type": "execute_result"
    }
   ],
   "source": [
    "df['type'].nunique()"
   ]
  },
  {
   "cell_type": "code",
   "execution_count": 14,
   "id": "e6658c8f",
   "metadata": {},
   "outputs": [
    {
     "name": "stdout",
     "output_type": "stream",
     "text": [
      "['Manual' 'Semi-Auto' 'Automatic']\n",
      "['Manual' 'Semi-Auto' 'Automatic']\n",
      "['Manual' 'Semi-Auto' 'Automatic']\n",
      "['Manual' 'Semi-Auto' 'Automatic']\n",
      "['Manual' 'Semi-Auto' 'Automatic']\n",
      "['Manual' 'Semi-Auto' 'Automatic']\n",
      "['Manual' 'Semi-Auto' 'Automatic']\n",
      "['Manual' 'Semi-Auto' 'Automatic']\n",
      "['Manual' 'Semi-Auto' 'Automatic']\n"
     ]
    }
   ],
   "source": [
    "for col in df:\n",
    "    print(df['type'].unique())"
   ]
  },
  {
   "cell_type": "code",
   "execution_count": 15,
   "id": "3071e277",
   "metadata": {},
   "outputs": [
    {
     "data": {
      "text/html": [
       "<div>\n",
       "<style scoped>\n",
       "    .dataframe tbody tr th:only-of-type {\n",
       "        vertical-align: middle;\n",
       "    }\n",
       "\n",
       "    .dataframe tbody tr th {\n",
       "        vertical-align: top;\n",
       "    }\n",
       "\n",
       "    .dataframe thead th {\n",
       "        text-align: right;\n",
       "    }\n",
       "</style>\n",
       "<table border=\"1\" class=\"dataframe\">\n",
       "  <thead>\n",
       "    <tr style=\"text-align: right;\">\n",
       "      <th></th>\n",
       "      <th>model</th>\n",
       "      <th>year</th>\n",
       "      <th>price</th>\n",
       "      <th>type</th>\n",
       "      <th>distance</th>\n",
       "      <th>fuel</th>\n",
       "      <th>tax</th>\n",
       "      <th>miles per galoon</th>\n",
       "      <th>size</th>\n",
       "    </tr>\n",
       "  </thead>\n",
       "  <tbody>\n",
       "    <tr>\n",
       "      <th>0</th>\n",
       "      <td>I20</td>\n",
       "      <td>2017.0</td>\n",
       "      <td>7999.0</td>\n",
       "      <td>1</td>\n",
       "      <td>17307.00000</td>\n",
       "      <td>Petrol</td>\n",
       "      <td>145.0</td>\n",
       "      <td>58.9</td>\n",
       "      <td>1.2</td>\n",
       "    </tr>\n",
       "    <tr>\n",
       "      <th>1</th>\n",
       "      <td>Tucson</td>\n",
       "      <td>2017.0</td>\n",
       "      <td>14100.0</td>\n",
       "      <td>2</td>\n",
       "      <td>27299.00000</td>\n",
       "      <td>Diesel</td>\n",
       "      <td>145.0</td>\n",
       "      <td>57.6</td>\n",
       "      <td>1.7</td>\n",
       "    </tr>\n",
       "    <tr>\n",
       "      <th>2</th>\n",
       "      <td>I10</td>\n",
       "      <td>2017.0</td>\n",
       "      <td>7495.0</td>\n",
       "      <td>1</td>\n",
       "      <td>25203.00000</td>\n",
       "      <td>Petrol</td>\n",
       "      <td>30.0</td>\n",
       "      <td>57.7</td>\n",
       "      <td>1.2</td>\n",
       "    </tr>\n",
       "    <tr>\n",
       "      <th>3</th>\n",
       "      <td>IX35</td>\n",
       "      <td>2013.0</td>\n",
       "      <td>6998.0</td>\n",
       "      <td>1</td>\n",
       "      <td>72893.96871</td>\n",
       "      <td>Diesel</td>\n",
       "      <td>145.0</td>\n",
       "      <td>53.3</td>\n",
       "      <td>1.7</td>\n",
       "    </tr>\n",
       "    <tr>\n",
       "      <th>4</th>\n",
       "      <td>Tucson</td>\n",
       "      <td>2016.0</td>\n",
       "      <td>11998.0</td>\n",
       "      <td>1</td>\n",
       "      <td>36512.00000</td>\n",
       "      <td>Diesel</td>\n",
       "      <td>30.0</td>\n",
       "      <td>61.7</td>\n",
       "      <td>1.7</td>\n",
       "    </tr>\n",
       "  </tbody>\n",
       "</table>\n",
       "</div>"
      ],
      "text/plain": [
       "    model    year    price  type     distance    fuel    tax  \\\n",
       "0     I20  2017.0   7999.0     1  17307.00000  Petrol  145.0   \n",
       "1  Tucson  2017.0  14100.0     2  27299.00000  Diesel  145.0   \n",
       "2     I10  2017.0   7495.0     1  25203.00000  Petrol   30.0   \n",
       "3    IX35  2013.0   6998.0     1  72893.96871  Diesel  145.0   \n",
       "4  Tucson  2016.0  11998.0     1  36512.00000  Diesel   30.0   \n",
       "\n",
       "   miles per galoon  size  \n",
       "0              58.9   1.2  \n",
       "1              57.6   1.7  \n",
       "2              57.7   1.2  \n",
       "3              53.3   1.7  \n",
       "4              61.7   1.7  "
      ]
     },
     "execution_count": 15,
     "metadata": {},
     "output_type": "execute_result"
    }
   ],
   "source": [
    "#encoding transmission\n",
    "from sklearn import preprocessing\n",
    "df['type'] = preprocessing.LabelEncoder().fit_transform(df['type'])\n",
    "df.head(5)"
   ]
  },
  {
   "cell_type": "markdown",
   "id": "ce22d036",
   "metadata": {},
   "source": [
    "К числовому формату привели фактор type"
   ]
  },
  {
   "cell_type": "code",
   "execution_count": 16,
   "id": "89a1932b",
   "metadata": {},
   "outputs": [
    {
     "data": {
      "text/plain": [
       "3"
      ]
     },
     "execution_count": 16,
     "metadata": {},
     "output_type": "execute_result"
    }
   ],
   "source": [
    "df['fuel'].nunique()"
   ]
  },
  {
   "cell_type": "code",
   "execution_count": 17,
   "id": "ae242c4c",
   "metadata": {},
   "outputs": [
    {
     "name": "stdout",
     "output_type": "stream",
     "text": [
      "['Petrol' 'Diesel' 'Hybrid']\n",
      "['Petrol' 'Diesel' 'Hybrid']\n",
      "['Petrol' 'Diesel' 'Hybrid']\n",
      "['Petrol' 'Diesel' 'Hybrid']\n",
      "['Petrol' 'Diesel' 'Hybrid']\n",
      "['Petrol' 'Diesel' 'Hybrid']\n",
      "['Petrol' 'Diesel' 'Hybrid']\n",
      "['Petrol' 'Diesel' 'Hybrid']\n",
      "['Petrol' 'Diesel' 'Hybrid']\n"
     ]
    }
   ],
   "source": [
    "for col in df:\n",
    "    print(df['fuel'].unique())"
   ]
  },
  {
   "cell_type": "code",
   "execution_count": 18,
   "id": "70a4948b",
   "metadata": {},
   "outputs": [
    {
     "data": {
      "text/html": [
       "<div>\n",
       "<style scoped>\n",
       "    .dataframe tbody tr th:only-of-type {\n",
       "        vertical-align: middle;\n",
       "    }\n",
       "\n",
       "    .dataframe tbody tr th {\n",
       "        vertical-align: top;\n",
       "    }\n",
       "\n",
       "    .dataframe thead th {\n",
       "        text-align: right;\n",
       "    }\n",
       "</style>\n",
       "<table border=\"1\" class=\"dataframe\">\n",
       "  <thead>\n",
       "    <tr style=\"text-align: right;\">\n",
       "      <th></th>\n",
       "      <th>model</th>\n",
       "      <th>year</th>\n",
       "      <th>price</th>\n",
       "      <th>type</th>\n",
       "      <th>distance</th>\n",
       "      <th>fuel</th>\n",
       "      <th>tax</th>\n",
       "      <th>miles per galoon</th>\n",
       "      <th>size</th>\n",
       "    </tr>\n",
       "  </thead>\n",
       "  <tbody>\n",
       "    <tr>\n",
       "      <th>0</th>\n",
       "      <td>I20</td>\n",
       "      <td>2017.0</td>\n",
       "      <td>7999.0</td>\n",
       "      <td>1</td>\n",
       "      <td>17307.00000</td>\n",
       "      <td>2</td>\n",
       "      <td>145.0</td>\n",
       "      <td>58.9</td>\n",
       "      <td>1.2</td>\n",
       "    </tr>\n",
       "    <tr>\n",
       "      <th>1</th>\n",
       "      <td>Tucson</td>\n",
       "      <td>2017.0</td>\n",
       "      <td>14100.0</td>\n",
       "      <td>2</td>\n",
       "      <td>27299.00000</td>\n",
       "      <td>0</td>\n",
       "      <td>145.0</td>\n",
       "      <td>57.6</td>\n",
       "      <td>1.7</td>\n",
       "    </tr>\n",
       "    <tr>\n",
       "      <th>2</th>\n",
       "      <td>I10</td>\n",
       "      <td>2017.0</td>\n",
       "      <td>7495.0</td>\n",
       "      <td>1</td>\n",
       "      <td>25203.00000</td>\n",
       "      <td>2</td>\n",
       "      <td>30.0</td>\n",
       "      <td>57.7</td>\n",
       "      <td>1.2</td>\n",
       "    </tr>\n",
       "    <tr>\n",
       "      <th>3</th>\n",
       "      <td>IX35</td>\n",
       "      <td>2013.0</td>\n",
       "      <td>6998.0</td>\n",
       "      <td>1</td>\n",
       "      <td>72893.96871</td>\n",
       "      <td>0</td>\n",
       "      <td>145.0</td>\n",
       "      <td>53.3</td>\n",
       "      <td>1.7</td>\n",
       "    </tr>\n",
       "    <tr>\n",
       "      <th>4</th>\n",
       "      <td>Tucson</td>\n",
       "      <td>2016.0</td>\n",
       "      <td>11998.0</td>\n",
       "      <td>1</td>\n",
       "      <td>36512.00000</td>\n",
       "      <td>0</td>\n",
       "      <td>30.0</td>\n",
       "      <td>61.7</td>\n",
       "      <td>1.7</td>\n",
       "    </tr>\n",
       "  </tbody>\n",
       "</table>\n",
       "</div>"
      ],
      "text/plain": [
       "    model    year    price  type     distance  fuel    tax  miles per galoon  \\\n",
       "0     I20  2017.0   7999.0     1  17307.00000     2  145.0              58.9   \n",
       "1  Tucson  2017.0  14100.0     2  27299.00000     0  145.0              57.6   \n",
       "2     I10  2017.0   7495.0     1  25203.00000     2   30.0              57.7   \n",
       "3    IX35  2013.0   6998.0     1  72893.96871     0  145.0              53.3   \n",
       "4  Tucson  2016.0  11998.0     1  36512.00000     0   30.0              61.7   \n",
       "\n",
       "   size  \n",
       "0   1.2  \n",
       "1   1.7  \n",
       "2   1.2  \n",
       "3   1.7  \n",
       "4   1.7  "
      ]
     },
     "execution_count": 18,
     "metadata": {},
     "output_type": "execute_result"
    }
   ],
   "source": [
    "#encoding fuel\n",
    "from sklearn import preprocessing\n",
    "df['fuel'] = preprocessing.LabelEncoder().fit_transform(df['fuel'])\n",
    "df.head(5)"
   ]
  },
  {
   "cell_type": "markdown",
   "id": "55dc0e1c",
   "metadata": {},
   "source": [
    "К числовому формату привели фактор fuel"
   ]
  },
  {
   "cell_type": "code",
   "execution_count": 19,
   "id": "13d138d1",
   "metadata": {},
   "outputs": [
    {
     "data": {
      "text/plain": [
       "12"
      ]
     },
     "execution_count": 19,
     "metadata": {},
     "output_type": "execute_result"
    }
   ],
   "source": [
    "df['model'].nunique()"
   ]
  },
  {
   "cell_type": "code",
   "execution_count": 20,
   "id": "f8cdbdba",
   "metadata": {},
   "outputs": [
    {
     "name": "stdout",
     "output_type": "stream",
     "text": [
      "['I20' 'Tucson' 'I10' 'IX35' 'I30' 'I800' 'IX20' 'Ioniq' 'Kona' 'Santa Fe'\n",
      " 'Veloster' 'I40']\n",
      "['I20' 'Tucson' 'I10' 'IX35' 'I30' 'I800' 'IX20' 'Ioniq' 'Kona' 'Santa Fe'\n",
      " 'Veloster' 'I40']\n",
      "['I20' 'Tucson' 'I10' 'IX35' 'I30' 'I800' 'IX20' 'Ioniq' 'Kona' 'Santa Fe'\n",
      " 'Veloster' 'I40']\n",
      "['I20' 'Tucson' 'I10' 'IX35' 'I30' 'I800' 'IX20' 'Ioniq' 'Kona' 'Santa Fe'\n",
      " 'Veloster' 'I40']\n",
      "['I20' 'Tucson' 'I10' 'IX35' 'I30' 'I800' 'IX20' 'Ioniq' 'Kona' 'Santa Fe'\n",
      " 'Veloster' 'I40']\n",
      "['I20' 'Tucson' 'I10' 'IX35' 'I30' 'I800' 'IX20' 'Ioniq' 'Kona' 'Santa Fe'\n",
      " 'Veloster' 'I40']\n",
      "['I20' 'Tucson' 'I10' 'IX35' 'I30' 'I800' 'IX20' 'Ioniq' 'Kona' 'Santa Fe'\n",
      " 'Veloster' 'I40']\n",
      "['I20' 'Tucson' 'I10' 'IX35' 'I30' 'I800' 'IX20' 'Ioniq' 'Kona' 'Santa Fe'\n",
      " 'Veloster' 'I40']\n",
      "['I20' 'Tucson' 'I10' 'IX35' 'I30' 'I800' 'IX20' 'Ioniq' 'Kona' 'Santa Fe'\n",
      " 'Veloster' 'I40']\n"
     ]
    }
   ],
   "source": [
    "for col in df:\n",
    "    print(df['model'].unique())"
   ]
  },
  {
   "cell_type": "code",
   "execution_count": 21,
   "id": "5315edb2",
   "metadata": {},
   "outputs": [
    {
     "data": {
      "text/html": [
       "<div>\n",
       "<style scoped>\n",
       "    .dataframe tbody tr th:only-of-type {\n",
       "        vertical-align: middle;\n",
       "    }\n",
       "\n",
       "    .dataframe tbody tr th {\n",
       "        vertical-align: top;\n",
       "    }\n",
       "\n",
       "    .dataframe thead th {\n",
       "        text-align: right;\n",
       "    }\n",
       "</style>\n",
       "<table border=\"1\" class=\"dataframe\">\n",
       "  <thead>\n",
       "    <tr style=\"text-align: right;\">\n",
       "      <th></th>\n",
       "      <th>model</th>\n",
       "      <th>year</th>\n",
       "      <th>price</th>\n",
       "      <th>type</th>\n",
       "      <th>distance</th>\n",
       "      <th>fuel</th>\n",
       "      <th>tax</th>\n",
       "      <th>miles per galoon</th>\n",
       "      <th>size</th>\n",
       "    </tr>\n",
       "  </thead>\n",
       "  <tbody>\n",
       "    <tr>\n",
       "      <th>0</th>\n",
       "      <td>1</td>\n",
       "      <td>2017.0</td>\n",
       "      <td>7999.0</td>\n",
       "      <td>1</td>\n",
       "      <td>17307.00000</td>\n",
       "      <td>2</td>\n",
       "      <td>145.0</td>\n",
       "      <td>58.9</td>\n",
       "      <td>1.2</td>\n",
       "    </tr>\n",
       "    <tr>\n",
       "      <th>1</th>\n",
       "      <td>10</td>\n",
       "      <td>2017.0</td>\n",
       "      <td>14100.0</td>\n",
       "      <td>2</td>\n",
       "      <td>27299.00000</td>\n",
       "      <td>0</td>\n",
       "      <td>145.0</td>\n",
       "      <td>57.6</td>\n",
       "      <td>1.7</td>\n",
       "    </tr>\n",
       "    <tr>\n",
       "      <th>2</th>\n",
       "      <td>0</td>\n",
       "      <td>2017.0</td>\n",
       "      <td>7495.0</td>\n",
       "      <td>1</td>\n",
       "      <td>25203.00000</td>\n",
       "      <td>2</td>\n",
       "      <td>30.0</td>\n",
       "      <td>57.7</td>\n",
       "      <td>1.2</td>\n",
       "    </tr>\n",
       "    <tr>\n",
       "      <th>3</th>\n",
       "      <td>6</td>\n",
       "      <td>2013.0</td>\n",
       "      <td>6998.0</td>\n",
       "      <td>1</td>\n",
       "      <td>72893.96871</td>\n",
       "      <td>0</td>\n",
       "      <td>145.0</td>\n",
       "      <td>53.3</td>\n",
       "      <td>1.7</td>\n",
       "    </tr>\n",
       "    <tr>\n",
       "      <th>4</th>\n",
       "      <td>10</td>\n",
       "      <td>2016.0</td>\n",
       "      <td>11998.0</td>\n",
       "      <td>1</td>\n",
       "      <td>36512.00000</td>\n",
       "      <td>0</td>\n",
       "      <td>30.0</td>\n",
       "      <td>61.7</td>\n",
       "      <td>1.7</td>\n",
       "    </tr>\n",
       "    <tr>\n",
       "      <th>5</th>\n",
       "      <td>1</td>\n",
       "      <td>2015.0</td>\n",
       "      <td>7995.0</td>\n",
       "      <td>1</td>\n",
       "      <td>6413.00000</td>\n",
       "      <td>2</td>\n",
       "      <td>30.0</td>\n",
       "      <td>55.4</td>\n",
       "      <td>1.2</td>\n",
       "    </tr>\n",
       "    <tr>\n",
       "      <th>6</th>\n",
       "      <td>2</td>\n",
       "      <td>2015.0</td>\n",
       "      <td>8998.0</td>\n",
       "      <td>1</td>\n",
       "      <td>16412.00000</td>\n",
       "      <td>2</td>\n",
       "      <td>145.0</td>\n",
       "      <td>48.7</td>\n",
       "      <td>1.4</td>\n",
       "    </tr>\n",
       "    <tr>\n",
       "      <th>7</th>\n",
       "      <td>10</td>\n",
       "      <td>2016.0</td>\n",
       "      <td>12298.0</td>\n",
       "      <td>1</td>\n",
       "      <td>35153.00000</td>\n",
       "      <td>0</td>\n",
       "      <td>30.0</td>\n",
       "      <td>61.7</td>\n",
       "      <td>1.7</td>\n",
       "    </tr>\n",
       "    <tr>\n",
       "      <th>8</th>\n",
       "      <td>1</td>\n",
       "      <td>2017.0</td>\n",
       "      <td>7798.0</td>\n",
       "      <td>1</td>\n",
       "      <td>14814.00000</td>\n",
       "      <td>2</td>\n",
       "      <td>150.0</td>\n",
       "      <td>55.4</td>\n",
       "      <td>1.2</td>\n",
       "    </tr>\n",
       "    <tr>\n",
       "      <th>9</th>\n",
       "      <td>4</td>\n",
       "      <td>2018.0</td>\n",
       "      <td>15299.0</td>\n",
       "      <td>0</td>\n",
       "      <td>34103.00000</td>\n",
       "      <td>0</td>\n",
       "      <td>145.0</td>\n",
       "      <td>33.6</td>\n",
       "      <td>2.5</td>\n",
       "    </tr>\n",
       "  </tbody>\n",
       "</table>\n",
       "</div>"
      ],
      "text/plain": [
       "   model    year    price  type     distance  fuel    tax  miles per galoon  \\\n",
       "0      1  2017.0   7999.0     1  17307.00000     2  145.0              58.9   \n",
       "1     10  2017.0  14100.0     2  27299.00000     0  145.0              57.6   \n",
       "2      0  2017.0   7495.0     1  25203.00000     2   30.0              57.7   \n",
       "3      6  2013.0   6998.0     1  72893.96871     0  145.0              53.3   \n",
       "4     10  2016.0  11998.0     1  36512.00000     0   30.0              61.7   \n",
       "5      1  2015.0   7995.0     1   6413.00000     2   30.0              55.4   \n",
       "6      2  2015.0   8998.0     1  16412.00000     2  145.0              48.7   \n",
       "7     10  2016.0  12298.0     1  35153.00000     0   30.0              61.7   \n",
       "8      1  2017.0   7798.0     1  14814.00000     2  150.0              55.4   \n",
       "9      4  2018.0  15299.0     0  34103.00000     0  145.0              33.6   \n",
       "\n",
       "   size  \n",
       "0   1.2  \n",
       "1   1.7  \n",
       "2   1.2  \n",
       "3   1.7  \n",
       "4   1.7  \n",
       "5   1.2  \n",
       "6   1.4  \n",
       "7   1.7  \n",
       "8   1.2  \n",
       "9   2.5  "
      ]
     },
     "execution_count": 21,
     "metadata": {},
     "output_type": "execute_result"
    }
   ],
   "source": [
    "#encoding body\n",
    "from sklearn import preprocessing\n",
    "df['model'] = preprocessing.LabelEncoder().fit_transform(df['model'])\n",
    "df.head(10)"
   ]
  },
  {
   "cell_type": "markdown",
   "id": "35314db8",
   "metadata": {},
   "source": [
    "К числовому формату привели фактор model"
   ]
  },
  {
   "cell_type": "code",
   "execution_count": 22,
   "id": "0681198b",
   "metadata": {},
   "outputs": [
    {
     "data": {
      "text/plain": [
       "model                 int32\n",
       "year                float64\n",
       "price               float64\n",
       "type                  int32\n",
       "distance            float64\n",
       "fuel                  int32\n",
       "tax                 float64\n",
       "miles per galoon    float64\n",
       "size                float64\n",
       "dtype: object"
      ]
     },
     "execution_count": 22,
     "metadata": {},
     "output_type": "execute_result"
    }
   ],
   "source": [
    "df.dtypes"
   ]
  },
  {
   "cell_type": "markdown",
   "id": "33279ca3",
   "metadata": {},
   "source": [
    "# Визуализация факторов"
   ]
  },
  {
   "cell_type": "code",
   "execution_count": 23,
   "id": "072eaefa",
   "metadata": {},
   "outputs": [
    {
     "data": {
      "text/plain": [
       "<AxesSubplot:ylabel='Frequency'>"
      ]
     },
     "execution_count": 23,
     "metadata": {},
     "output_type": "execute_result"
    },
    {
     "data": {
      "image/png": "[encoded data removed]",
      "text/plain": [
       "<Figure size 432x288 with 1 Axes>"
      ]
     },
     "metadata": {
      "needs_background": "light"
     },
     "output_type": "display_data"
    }
   ],
   "source": [
    "df['price'].plot(kind = 'hist')"
   ]
  },
  {
   "cell_type": "markdown",
   "id": "e23a1d42",
   "metadata": {},
   "source": [
    "Для большиства моделей цена варьируется от 6 до 16 тыс. у.е."
   ]
  },
  {
   "cell_type": "code",
   "execution_count": 24,
   "id": "e3fe8ea7",
   "metadata": {},
   "outputs": [
    {
     "data": {
      "text/plain": [
       "<AxesSubplot:ylabel='Frequency'>"
      ]
     },
     "execution_count": 24,
     "metadata": {},
     "output_type": "execute_result"
    },
    {
     "data": {
      "image/png": "[encoded data removed]",
      "text/plain": [
       "<Figure size 432x288 with 1 Axes>"
      ]
     },
     "metadata": {
      "needs_background": "light"
     },
     "output_type": "display_data"
    }
   ],
   "source": [
    "df['year'].plot(kind = 'hist')"
   ]
  },
  {
   "cell_type": "markdown",
   "id": "f8d4fde1",
   "metadata": {},
   "source": [
    "Большинство моделей 2016-2019 года выпуска"
   ]
  },
  {
   "cell_type": "code",
   "execution_count": 25,
   "id": "559468fb",
   "metadata": {},
   "outputs": [
    {
     "data": {
      "text/plain": [
       "<AxesSubplot:ylabel='Frequency'>"
      ]
     },
     "execution_count": 25,
     "metadata": {},
     "output_type": "execute_result"
    },
    {
     "data": {
      "image/png": "[encoded data removed]",
      "text/plain": [
       "<Figure size 432x288 with 1 Axes>"
      ]
     },
     "metadata": {
      "needs_background": "light"
     },
     "output_type": "display_data"
    }
   ],
   "source": [
    "df['model'].plot(kind = 'hist')"
   ]
  },
  {
   "cell_type": "markdown",
   "id": "2f02a3d9",
   "metadata": {},
   "source": [
    "Самая распространенная модель I40"
   ]
  },
  {
   "cell_type": "code",
   "execution_count": 27,
   "id": "2f35ff93",
   "metadata": {},
   "outputs": [
    {
     "data": {
      "text/plain": [
       "<AxesSubplot:ylabel='Frequency'>"
      ]
     },
     "execution_count": 27,
     "metadata": {},
     "output_type": "execute_result"
    },
    {
     "data": {
      "image/png": "[encoded data removed]",
      "text/plain": [
       "<Figure size 432x288 with 1 Axes>"
      ]
     },
     "metadata": {
      "needs_background": "light"
     },
     "output_type": "display_data"
    }
   ],
   "source": [
    "df['type'].plot(kind = 'hist')"
   ]
  },
  {
   "cell_type": "markdown",
   "id": "0a6c22fe",
   "metadata": {},
   "source": [
    "Самая распространенная коробка передач - Semi-Auto"
   ]
  },
  {
   "cell_type": "code",
   "execution_count": 28,
   "id": "3f77e82e",
   "metadata": {},
   "outputs": [
    {
     "data": {
      "text/plain": [
       "<AxesSubplot:ylabel='Frequency'>"
      ]
     },
     "execution_count": 28,
     "metadata": {},
     "output_type": "execute_result"
    },
    {
     "data": {
      "image/png": "[encoded data removed]",
      "text/plain": [
       "<Figure size 432x288 with 1 Axes>"
      ]
     },
     "metadata": {
      "needs_background": "light"
     },
     "output_type": "display_data"
    }
   ],
   "source": [
    "df['distance'].plot(kind = 'hist')"
   ]
  },
  {
   "cell_type": "markdown",
   "id": "bbe8688b",
   "metadata": {},
   "source": [
    "Большинство автомобилей имеют пробег до 45 тыс. км"
   ]
  },
  {
   "cell_type": "code",
   "execution_count": 29,
   "id": "20c3036f",
   "metadata": {},
   "outputs": [
    {
     "data": {
      "text/plain": [
       "<AxesSubplot:ylabel='Frequency'>"
      ]
     },
     "execution_count": 29,
     "metadata": {},
     "output_type": "execute_result"
    },
    {
     "data": {
      "image/png": "[encoded data removed]",
      "text/plain": [
       "<Figure size 432x288 with 1 Axes>"
      ]
     },
     "metadata": {
      "needs_background": "light"
     },
     "output_type": "display_data"
    }
   ],
   "source": [
    "df['tax'].plot(kind = 'hist')"
   ]
  },
  {
   "cell_type": "markdown",
   "id": "0923a01d",
   "metadata": {},
   "source": [
    "реимущественное большиство моделей выборки имеют налог 125-150 у.е."
   ]
  },
  {
   "cell_type": "code",
   "execution_count": 30,
   "id": "a19a26b8",
   "metadata": {},
   "outputs": [
    {
     "data": {
      "text/plain": [
       "<AxesSubplot:ylabel='Frequency'>"
      ]
     },
     "execution_count": 30,
     "metadata": {},
     "output_type": "execute_result"
    },
    {
     "data": {
      "image/png": "[encoded data removed]",
      "text/plain": [
       "<Figure size 432x288 with 1 Axes>"
      ]
     },
     "metadata": {
      "needs_background": "light"
     },
     "output_type": "display_data"
    }
   ],
   "source": [
    "df['miles per galoon'].plot(kind = 'hist')"
   ]
  },
  {
   "cell_type": "markdown",
   "id": "9bad1702",
   "metadata": {},
   "source": [
    "78 моделей имеют расход топлива 45-65 миль на галлон"
   ]
  },
  {
   "cell_type": "code",
   "execution_count": 31,
   "id": "dd62808e",
   "metadata": {},
   "outputs": [
    {
     "data": {
      "text/plain": [
       "<AxesSubplot:ylabel='Frequency'>"
      ]
     },
     "execution_count": 31,
     "metadata": {},
     "output_type": "execute_result"
    },
    {
     "data": {
      "image/png": "[encoded data removed]",
      "text/plain": [
       "<Figure size 432x288 with 1 Axes>"
      ]
     },
     "metadata": {
      "needs_background": "light"
     },
     "output_type": "display_data"
    }
   ],
   "source": [
    "df['size'].plot(kind = 'hist')"
   ]
  },
  {
   "cell_type": "markdown",
   "id": "61dcdadb",
   "metadata": {},
   "source": [
    "Самый распространенный объем двигателя - 1.6 л"
   ]
  },
  {
   "cell_type": "code",
   "execution_count": 33,
   "id": "2747e53c",
   "metadata": {},
   "outputs": [],
   "source": [
    "df.to_csv('hyundai1.csv', sep=',', index=False)"
   ]
  },
  {
   "cell_type": "code",
   "execution_count": 34,
   "id": "69050485",
   "metadata": {},
   "outputs": [
    {
     "data": {
      "image/png": "[encoded data removed]",
      "text/plain": [
       "<Figure size 864x648 with 2 Axes>"
      ]
     },
     "metadata": {
      "needs_background": "light"
     },
     "output_type": "display_data"
    }
   ],
   "source": [
    "import seaborn as sns\n",
    "corrmat = df.corr()\n",
    "f, ax = plt.subplots(figsize=(12, 9))\n",
    "sns.heatmap(corrmat, annot=True)\n",
    "plt.show()"
   ]
  },
  {
   "cell_type": "markdown",
   "id": "823e21ad",
   "metadata": {},
   "source": [
    "Наибольшая корреляция между факторами Цена и модель, также сильная корелляция между факторами Цена и Год"
   ]
  },
  {
   "cell_type": "code",
   "execution_count": 35,
   "id": "18d0ee19",
   "metadata": {},
   "outputs": [
    {
     "data": {
      "text/html": [
       "<div>\n",
       "<style scoped>\n",
       "    .dataframe tbody tr th:only-of-type {\n",
       "        vertical-align: middle;\n",
       "    }\n",
       "\n",
       "    .dataframe tbody tr th {\n",
       "        vertical-align: top;\n",
       "    }\n",
       "\n",
       "    .dataframe thead th {\n",
       "        text-align: right;\n",
       "    }\n",
       "</style>\n",
       "<table border=\"1\" class=\"dataframe\">\n",
       "  <thead>\n",
       "    <tr style=\"text-align: right;\">\n",
       "      <th></th>\n",
       "      <th>model</th>\n",
       "      <th>year</th>\n",
       "      <th>price</th>\n",
       "      <th>type</th>\n",
       "      <th>distance</th>\n",
       "      <th>fuel</th>\n",
       "      <th>tax</th>\n",
       "      <th>miles per galoon</th>\n",
       "      <th>size</th>\n",
       "    </tr>\n",
       "  </thead>\n",
       "  <tbody>\n",
       "    <tr>\n",
       "      <th>count</th>\n",
       "      <td>335.000000</td>\n",
       "      <td>335.000000</td>\n",
       "      <td>335.000000</td>\n",
       "      <td>335.000000</td>\n",
       "      <td>335.000000</td>\n",
       "      <td>335.000000</td>\n",
       "      <td>335.000000</td>\n",
       "      <td>335.000000</td>\n",
       "      <td>335.000000</td>\n",
       "    </tr>\n",
       "    <tr>\n",
       "      <th>mean</th>\n",
       "      <td>5.641791</td>\n",
       "      <td>2016.856365</td>\n",
       "      <td>11793.132491</td>\n",
       "      <td>0.967164</td>\n",
       "      <td>23804.958022</td>\n",
       "      <td>1.134328</td>\n",
       "      <td>114.035833</td>\n",
       "      <td>53.754030</td>\n",
       "      <td>1.494925</td>\n",
       "    </tr>\n",
       "    <tr>\n",
       "      <th>std</th>\n",
       "      <td>4.016812</td>\n",
       "      <td>1.617895</td>\n",
       "      <td>3939.153774</td>\n",
       "      <td>0.381609</td>\n",
       "      <td>15610.386090</td>\n",
       "      <td>0.977218</td>\n",
       "      <td>61.191625</td>\n",
       "      <td>11.115859</td>\n",
       "      <td>0.373130</td>\n",
       "    </tr>\n",
       "    <tr>\n",
       "      <th>min</th>\n",
       "      <td>0.000000</td>\n",
       "      <td>2011.941133</td>\n",
       "      <td>3799.000000</td>\n",
       "      <td>0.000000</td>\n",
       "      <td>10.000000</td>\n",
       "      <td>0.000000</td>\n",
       "      <td>0.000000</td>\n",
       "      <td>28.000000</td>\n",
       "      <td>1.000000</td>\n",
       "    </tr>\n",
       "    <tr>\n",
       "      <th>25%</th>\n",
       "      <td>2.000000</td>\n",
       "      <td>2016.000000</td>\n",
       "      <td>8299.000000</td>\n",
       "      <td>1.000000</td>\n",
       "      <td>12246.500000</td>\n",
       "      <td>0.000000</td>\n",
       "      <td>30.000000</td>\n",
       "      <td>44.800000</td>\n",
       "      <td>1.200000</td>\n",
       "    </tr>\n",
       "    <tr>\n",
       "      <th>50%</th>\n",
       "      <td>6.000000</td>\n",
       "      <td>2017.000000</td>\n",
       "      <td>11998.000000</td>\n",
       "      <td>1.000000</td>\n",
       "      <td>20746.000000</td>\n",
       "      <td>2.000000</td>\n",
       "      <td>145.000000</td>\n",
       "      <td>55.400000</td>\n",
       "      <td>1.600000</td>\n",
       "    </tr>\n",
       "    <tr>\n",
       "      <th>75%</th>\n",
       "      <td>10.000000</td>\n",
       "      <td>2018.000000</td>\n",
       "      <td>14549.500000</td>\n",
       "      <td>1.000000</td>\n",
       "      <td>35001.500000</td>\n",
       "      <td>2.000000</td>\n",
       "      <td>145.000000</td>\n",
       "      <td>61.700000</td>\n",
       "      <td>1.700000</td>\n",
       "    </tr>\n",
       "    <tr>\n",
       "      <th>max</th>\n",
       "      <td>11.000000</td>\n",
       "      <td>2020.000000</td>\n",
       "      <td>24502.192168</td>\n",
       "      <td>2.000000</td>\n",
       "      <td>72893.968710</td>\n",
       "      <td>2.000000</td>\n",
       "      <td>298.502068</td>\n",
       "      <td>78.500000</td>\n",
       "      <td>2.500000</td>\n",
       "    </tr>\n",
       "  </tbody>\n",
       "</table>\n",
       "</div>"
      ],
      "text/plain": [
       "            model         year         price        type      distance  \\\n",
       "count  335.000000   335.000000    335.000000  335.000000    335.000000   \n",
       "mean     5.641791  2016.856365  11793.132491    0.967164  23804.958022   \n",
       "std      4.016812     1.617895   3939.153774    0.381609  15610.386090   \n",
       "min      0.000000  2011.941133   3799.000000    0.000000     10.000000   \n",
       "25%      2.000000  2016.000000   8299.000000    1.000000  12246.500000   \n",
       "50%      6.000000  2017.000000  11998.000000    1.000000  20746.000000   \n",
       "75%     10.000000  2018.000000  14549.500000    1.000000  35001.500000   \n",
       "max     11.000000  2020.000000  24502.192168    2.000000  72893.968710   \n",
       "\n",
       "             fuel         tax  miles per galoon        size  \n",
       "count  335.000000  335.000000        335.000000  335.000000  \n",
       "mean     1.134328  114.035833         53.754030    1.494925  \n",
       "std      0.977218   61.191625         11.115859    0.373130  \n",
       "min      0.000000    0.000000         28.000000    1.000000  \n",
       "25%      0.000000   30.000000         44.800000    1.200000  \n",
       "50%      2.000000  145.000000         55.400000    1.600000  \n",
       "75%      2.000000  145.000000         61.700000    1.700000  \n",
       "max      2.000000  298.502068         78.500000    2.500000  "
      ]
     },
     "execution_count": 35,
     "metadata": {},
     "output_type": "execute_result"
    }
   ],
   "source": [
    "df.describe()"
   ]
  },
  {
   "cell_type": "code",
   "execution_count": null,
   "id": "2fc8e717",
   "metadata": {},
   "outputs": [],
   "source": []
  }
 ],
 "metadata": {
  "kernelspec": {
   "display_name": "Python 3",
   "language": "python",
   "name": "python3"
  },
  "language_info": {
   "codemirror_mode": {
    "name": "ipython",
    "version": 3
   },
   "file_extension": ".py",
   "mimetype": "text/x-python",
   "name": "python",
   "nbconvert_exporter": "python",
   "pygments_lexer": "ipython3",
   "version": "3.8.8"
  }
 },
 "nbformat": 4,
 "nbformat_minor": 5
}
